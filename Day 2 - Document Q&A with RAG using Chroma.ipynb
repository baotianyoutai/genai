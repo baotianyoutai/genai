{
 "cells": [
  {
   "cell_type": "markdown",
   "id": "8f90049d-c119-4fbc-88fa-6a4863e66b88",
   "metadata": {},
   "source": [
    "# Day 2 - Document Q&A with RAG using Chroma"
   ]
  },
  {
   "cell_type": "markdown",
   "id": "b9ec2758-e19f-4c83-afbf-8fe675ff102f",
   "metadata": {},
   "source": [
    "Welcome back to the Kaggle 5-day Generative AI course!\n",
    "\n",
    "Two big limitations of LLMs are 1) that they only \"know\" the information that they were trained on, and 2) that they have limited input context windows. A way to address both of these limitations is to use a technique called Retrieval Augmented Generation, or RAG. A RAG system has three stages:\n",
    "\n",
    "1. Indexing\n",
    "2. Retrieval\n",
    "3. Generation\n",
    "\n",
    "Indexing happens ahead of time, and allows you to quickly look up relevant information at query-time. When a query comes in, you retrieve relevant documents, combine them with your instructions and the user's query, and have the LLM generate a tailored answer in natural language using the supplied information. This allows you to provide information that the model hasn't seen before, such as product-specific knowledge or live weather updates.\n",
    "\n",
    "In this notebook you will use the Gemini API to create a vector database, retrieve answers to questions from the database and generate a final answer. You will use [Chroma](https://docs.trychroma.com/), an open-source vector database. With Chroma, you can store embeddings alongside metadata, embed documents and queries, and search your documents.\n",
    "\n",
    "---\n",
    "\n",
    "LLM の 2 つの大きな制限は、1) トレーニングを受けた情報しか「知らない」こと、2) 入力コンテキスト ウィンドウが限られていることです。これらの両方の制限に対処する方法は、Retrieval Augmented Generation、またはRAGと呼ばれる技術を使用することです。 RAGシステムには3つの段階があります。\n",
    "\n",
    "インデックス作成\n",
    "\n",
    "検索\n",
    "\n",
    "生成\n",
    "\n",
    "インデックス作成は事前に行われ、クエリ時に関連情報をすばやく検索できます。クエリが入ると、関連するドキュメントを取得し、それらをあなたの指示とユーザーのクエリと組み合わせて、LLMに提供された情報を使用して自然言語でカスタマイズされた回答を生成します。これにより、製品固有の知識やライブ天気の更新など、モデルがこれまでに見たことのない情報を提供できます。\n",
    "\n",
    "このノートでは、Gemini APIを使用してベクトルデータベースを作成し、データベースから質問に対する回答を取得し、最終的な回答を生成します。オープンソースのベクターデータベースであるChromaを使用します。Chromaを使用すると、メタデータと一緒に埋め込みを保存したり、ドキュメントやクエリを埋め込んだり、ドキュメントを検索したりできます。"
   ]
  },
  {
   "cell_type": "markdown",
   "id": "3e263003-cb18-4b26-9e84-50858176c836",
   "metadata": {
    "tags": []
   },
   "source": [
    "# Setup"
   ]
  },
  {
   "cell_type": "code",
   "execution_count": 3,
   "id": "72387d1b-13d9-4d39-af79-c71c408fdaed",
   "metadata": {
    "tags": []
   },
   "outputs": [
    {
     "data": {
      "text/plain": [
       "'1.7.0'"
      ]
     },
     "execution_count": 3,
     "metadata": {},
     "output_type": "execute_result"
    }
   ],
   "source": [
    "!pip install -qU \"google-genai\" \"chromadb\"\n",
    "\n",
    "from google import genai\n",
    "from google.genai import types\n",
    "\n",
    "from IPython.display import Markdown\n",
    "\n",
    "genai.__version__"
   ]
  },
  {
   "cell_type": "markdown",
   "id": "cb303c12-373e-47b2-8af3-40677b3eb04e",
   "metadata": {},
   "source": [
    "# Explore available models\n",
    "\n",
    "You will be using the [`embedContent`](https://ai.google.dev/api/embeddings#method:-models.embedcontent) API method to calculate embeddings in this guide. Find a model that supports it through the [`models.list`](https://ai.google.dev/api/models#method:-models.list) endpoint. You can also find more information about the embedding models on [the models page](https://ai.google.dev/gemini-api/docs/models/gemini#text-embedding).\n",
    "\n",
    "`text-embedding-004` is the most recent generally-available embedding model, so you will use it for this exercise, but try out the experimental `gemini-embedding-exp-03-07` model too.\n",
    "\n",
    "---\n",
    "\n",
    "このガイドでは、embedContent APIメソッドを使用して埋め込みを計算します。Models.listエンドポイントを介してそれをサポートするモデルを見つけます。埋め込みモデルの詳細については、モデルページでも確認できます。\n",
    "\n",
    "Text-embedding-004は、一般的に利用可能な最新の埋め込みモデルであるため、この演習には使用しますが、実験的なgemini-embedding-exp-03-07モデルも試してください。"
   ]
  },
  {
   "cell_type": "code",
   "execution_count": 14,
   "id": "88f3291c-7992-4aaf-95df-7a401f74643e",
   "metadata": {},
   "outputs": [],
   "source": [
    "GOOGLE_GENAI_USE_VERTEXAI=True\n",
    "GOOGLE_CLOUD_PROJECT='your-project-id' # #insert your-project-id in VERTEXAI\n",
    "GOOGLE_CLOUD_LOCATION='us-central1'"
   ]
  },
  {
   "cell_type": "code",
   "execution_count": 39,
   "id": "a4c922e9-49f5-4bdf-8906-b4dc9ab285c7",
   "metadata": {
    "tags": []
   },
   "outputs": [
    {
     "name": "stdout",
     "output_type": "stream",
     "text": [
      "publishers/google/models/chat-bison\n",
      "publishers/google/models/text-bison\n",
      "publishers/google/models/imageclassification-efficientnet\n",
      "publishers/google/models/occupancy-analytics\n",
      "publishers/google/models/multimodalembedding\n",
      "publishers/google/models/pt-test\n",
      "publishers/google/models/imageclassification-vit\n",
      "publishers/google/models/bert-base\n",
      "publishers/google/models/vehicle-detector\n",
      "publishers/google/models/language-v1-classify-text-v1\n",
      "publishers/google/models/language-v1-analyze-sentiment\n",
      "publishers/google/models/language-v1-analyze-entity-sentiment\n",
      "publishers/google/models/language-v1-analyze-syntax\n",
      "publishers/google/models/resnet50\n",
      "publishers/google/models/resnet-rs-50\n",
      "publishers/google/models/imagesegmentation-deeplabv3\n",
      "publishers/google/models/imageobjectdetection-yolo\n",
      "publishers/google/models/imageobjectdetection-spinenet\n",
      "publishers/google/models/owlvit-base-patch32\n",
      "publishers/google/models/object-detector\n",
      "publishers/google/models/ppe-detector\n",
      "publishers/google/models/people-blur\n",
      "publishers/google/models/product-recognizer\n",
      "publishers/google/models/tag-recognizer\n",
      "publishers/google/models/imageclassification-proprietary-vit\n",
      "publishers/google/models/imageobjectdetection-proprietary-spinenet\n",
      "publishers/google/models/imageclassification-proprietary-efficientnet\n",
      "publishers/google/models/t5-flan\n",
      "publishers/google/models/t5-1.1\n",
      "publishers/google/models/textembedding-gecko\n",
      "publishers/google/models/text-unicorn\n",
      "publishers/google/models/code-gecko\n",
      "publishers/google/models/code-bison\n",
      "publishers/google/models/codechat-bison\n",
      "publishers/google/models/imagegeneration\n",
      "publishers/google/models/automl-e2e\n",
      "publishers/google/models/content-moderation\n",
      "publishers/google/models/pretrained-ocr\n",
      "publishers/google/models/face-detector\n",
      "publishers/google/models/pretrained-form-parser\n",
      "publishers/google/models/label-detector-pali-001\n",
      "publishers/google/models/tab-net\n",
      "publishers/google/models/text-detector\n",
      "publishers/google/models/imagewatermarkdetector\n",
      "publishers/google/models/stable-diffusion-v1-4\n",
      "publishers/google/models/imagetext\n",
      "publishers/google/models/language-v1-moderate-text\n",
      "publishers/google/models/text-translation\n",
      "publishers/google/models/bart-large-cnn\n",
      "publishers/google/models/vit-jax\n",
      "publishers/google/models/pic2word\n",
      "publishers/google/models/imageobjectdetection-proprietary-yolo\n",
      "publishers/google/models/imageclassification-proprietary-maxvit\n",
      "publishers/google/models/efficientnetlite\n",
      "publishers/google/models/mobilenetv2\n",
      "publishers/google/models/mobilenetv2-detection\n",
      "publishers/google/models/mobilenet-multihw-avg\n",
      "publishers/google/models/bert-base-uncased\n",
      "publishers/google/models/tfvision-yolov7\n",
      "publishers/google/models/tfvision-movinet-vcn\n",
      "publishers/google/models/chirp-2\n",
      "publishers/google/models/f-vlm-jax\n",
      "publishers/google/models/keras-yolov8\n",
      "publishers/google/models/automl-vision-image-classification\n",
      "publishers/google/models/automl-vision-image-object-detection\n",
      "publishers/google/models/mediapipe-gesture-recognizer\n",
      "publishers/google/models/mediapipe-average-word-embedding-classifier\n",
      "publishers/google/models/mediapipe-mobile-bert-classifier\n",
      "publishers/google/models/mediapipe-face-stylizer\n",
      "publishers/google/models/cxr-foundation\n",
      "publishers/google/models/tfvision-movinet-var\n",
      "publishers/google/models/dito\n",
      "publishers/google/models/jax-owl-vit-v2\n",
      "publishers/google/models/cloudnerf-pytorch-zipnerf\n",
      "publishers/google/models/gemini-ultra-vision\n",
      "publishers/google/models/gemini-pro\n",
      "publishers/google/models/gemini-pro-vision\n",
      "publishers/google/models/gemini-ultra\n",
      "publishers/google/models/gemma\n",
      "publishers/google/models/paligemma\n",
      "publishers/google/models/codegemma\n",
      "publishers/google/models/mammut\n",
      "publishers/google/models/imagen-3.0-generate-002\n",
      "publishers/google/models/imagen-3.0-capability-001\n",
      "publishers/google/models/timesfm\n",
      "publishers/google/models/gemma2\n",
      "publishers/google/models/gemini-1.5-flash-002\n",
      "publishers/google/models/gemini-1.5-pro-002\n",
      "publishers/google/models/translate-llm\n",
      "publishers/google/models/video-text-detection\n",
      "publishers/google/models/video-speech-transcription\n",
      "publishers/google/models/path-foundation\n",
      "publishers/google/models/derm-foundation\n",
      "publishers/google/models/txgemma\n",
      "publishers/google/models/hear\n",
      "publishers/google/models/image-segmentation-001\n",
      "publishers/google/models/gemma3\n",
      "publishers/google/models/shieldgemma2\n",
      "publishers/google/models/gemini-2.0-flash-001\n",
      "publishers/google/models/text-embedding-large-exp-03-07\n",
      "publishers/google/models/gemini-2.0-flash-lite-001\n",
      "publishers/google/models/weathernext\n",
      "publishers/google/models/gemini-2.5-flash-preview-04-17\n",
      "publishers/google/models/gemini-2.5-pro-preview-05-06\n"
     ]
    }
   ],
   "source": [
    "client = genai.Client(vertexai = GOOGLE_GENAI_USE_VERTEXAI, project = GOOGLE_CLOUD_PROJECT, location = GOOGLE_CLOUD_LOCATION)\n",
    "\n",
    "for m in client.models.list():\n",
    "    print(m.name)"
   ]
  },
  {
   "cell_type": "markdown",
   "id": "2cc3b2e5-3555-4509-aac6-13bdaa1c6d2e",
   "metadata": {
    "tags": []
   },
   "source": [
    "# Data\n",
    "\n",
    "Here is a small set of documents you will use to create an embedding database."
   ]
  },
  {
   "cell_type": "code",
   "execution_count": 20,
   "id": "0a015cf6-ec5a-4f41-8bd0-8cad2d589454",
   "metadata": {
    "tags": []
   },
   "outputs": [],
   "source": [
    "DOCUMENT1 = \"Operating the Climate Control System  Your Googlecar has a climate control system that allows you to adjust the temperature and airflow in the car. To operate the climate control system, use the buttons and knobs located on the center console.  Temperature: The temperature knob controls the temperature inside the car. Turn the knob clockwise to increase the temperature or counterclockwise to decrease the temperature. Airflow: The airflow knob controls the amount of airflow inside the car. Turn the knob clockwise to increase the airflow or counterclockwise to decrease the airflow. Fan speed: The fan speed knob controls the speed of the fan. Turn the knob clockwise to increase the fan speed or counterclockwise to decrease the fan speed. Mode: The mode button allows you to select the desired mode. The available modes are: Auto: The car will automatically adjust the temperature and airflow to maintain a comfortable level. Cool: The car will blow cool air into the car. Heat: The car will blow warm air into the car. Defrost: The car will blow warm air onto the windshield to defrost it.\"\n",
    "DOCUMENT2 = 'Your Googlecar has a large touchscreen display that provides access to a variety of features, including navigation, entertainment, and climate control. To use the touchscreen display, simply touch the desired icon.  For example, you can touch the \"Navigation\" icon to get directions to your destination or touch the \"Music\" icon to play your favorite songs.'\n",
    "DOCUMENT3 = \"Shifting Gears Your Googlecar has an automatic transmission. To shift gears, simply move the shift lever to the desired position.  Park: This position is used when you are parked. The wheels are locked and the car cannot move. Reverse: This position is used to back up. Neutral: This position is used when you are stopped at a light or in traffic. The car is not in gear and will not move unless you press the gas pedal. Drive: This position is used to drive forward. Low: This position is used for driving in snow or other slippery conditions.\"\n",
    "\n",
    "documents = [DOCUMENT1, DOCUMENT2, DOCUMENT3]"
   ]
  },
  {
   "cell_type": "markdown",
   "id": "d66926b5-728e-47af-89ba-a6f98a5c5940",
   "metadata": {},
   "source": [
    "# Creating the embedding database with ChromaDB\n",
    "\n",
    "Create a [custom function](https://docs.trychroma.com/guides/embeddings#custom-embedding-functions) to generate embeddings with the Gemini API. In this task, you are implementing a retrieval system, so the `task_type` for generating the *document* embeddings is `retrieval_document`. Later, you will use `retrieval_query` for the *query* embeddings. Check out the [API reference](https://ai.google.dev/api/embeddings#v1beta.TaskType) for the full list of supported tasks.\n",
    "\n",
    "Key words: Documents are the items that are in the database. They are inserted first, and later retrieved. Queries are the textual search terms and can be simple keywords or textual descriptions of the desired documents.\n",
    "\n",
    "---\n",
    "\n",
    "カスタム関数を作成して、Gemini APIで埋め込みを生成します。このタスクでは、検索システムを実装しているため、ドキュメント埋め込みを生成するための task_type は retrieval_document です。後で、クエリの埋め込みにretarival_queryを使用します。サポートされているタスクの完全なリストについては、APIリファレンスを確認してください。\n",
    "\n",
    "キーワード：ドキュメントは、データベースにあるアイテムです。それらは最初に挿入され、後で取得されます。クエリはテキスト検索用語であり、単純なキーワードまたは目的のドキュメントのテキスト説明にすることができます。"
   ]
  },
  {
   "cell_type": "code",
   "execution_count": 44,
   "id": "16cd6841-ec4b-4a02-b1a4-b44eddaf1a2f",
   "metadata": {
    "tags": []
   },
   "outputs": [],
   "source": [
    "from chromadb import Documents, EmbeddingFunction, Embeddings\n",
    "from google.api_core import retry\n",
    "\n",
    "from google.genai import types\n",
    "\n",
    "# Define a helper to retry when per-minute quota is reached.\n",
    "is_retriable = lambda e: (isinstance(e, genai.errors.APIError) and e.code in {429, 503})\n",
    "\n",
    "class GeminiEmbeddingFunction(EmbeddingFunction):\n",
    "    # Specify whether to generate embeddings for documents, or queries\n",
    "    document_mode = True\n",
    "    \n",
    "    @retry.Retry(predicate=is_retriable)\n",
    "    def __call__(self, input: Documents) -> Embeddings:\n",
    "        if self.document_mode:\n",
    "            embedding_task = \"RETRIEVAL_DOCUMENT\"\n",
    "        else:\n",
    "            embedding_task = \"RETRIEVAL_QUERY\"\n",
    "            \n",
    "        response = client.models.embed_content(\n",
    "            model = \"text-embedding-005\",\n",
    "            contents = input,\n",
    "            config = types.EmbedContentConfig(\n",
    "                task_type = embedding_task,\n",
    "            ),\n",
    "        )\n",
    "        return [e.values for e in response.embeddings]"
   ]
  },
  {
   "cell_type": "markdown",
   "id": "5619bd88-c498-47ea-9738-a33503ed8929",
   "metadata": {},
   "source": [
    "Now create a [Chroma database client](https://docs.trychroma.com/getting-started) that uses the `GeminiEmbeddingFunction` and populate the database with the documents you defined above.\n",
    "\n",
    "---\n",
    "\n",
    "次に、GeminiEmbeddingFunctionを使用するChromaデータベースクライアントを作成し、上記で定義したドキュメントをデータベースに入力します。"
   ]
  },
  {
   "cell_type": "code",
   "execution_count": 45,
   "id": "0d5ac079-296d-4014-9878-427d986f94c5",
   "metadata": {
    "tags": []
   },
   "outputs": [
    {
     "name": "stderr",
     "output_type": "stream",
     "text": [
      "/var/tmp/ipykernel_3676/1719463736.py:5: DeprecationWarning: The class GeminiEmbeddingFunction does not implement __init__. This will be required in a future version.\n",
      "  embed_fn = GeminiEmbeddingFunction()\n"
     ]
    }
   ],
   "source": [
    "import chromadb\n",
    "\n",
    "DB_NAME = \"googlecardb\"\n",
    "\n",
    "embed_fn = GeminiEmbeddingFunction()\n",
    "embed_fn.document_mode = True\n",
    "\n",
    "chroma_client = chromadb.Client()\n",
    "db = chroma_client.get_or_create_collection(name = DB_NAME, embedding_function = embed_fn)\n",
    "\n",
    "db.add(documents = documents, ids = [str(i) for i in range(len(documents))])"
   ]
  },
  {
   "cell_type": "markdown",
   "id": "b6476feb-cb28-4c16-9650-e2b8d0a675b3",
   "metadata": {},
   "source": [
    "---\n",
    "Confirm that the data was inserted by looking at the database.\n",
    "\n",
    "データベースを見て、データが挿入されたことを確認します。"
   ]
  },
  {
   "cell_type": "code",
   "execution_count": 46,
   "id": "c0e1048b-1302-48ea-bb13-722c9781a2ef",
   "metadata": {
    "tags": []
   },
   "outputs": [
    {
     "data": {
      "text/plain": [
       "3"
      ]
     },
     "execution_count": 46,
     "metadata": {},
     "output_type": "execute_result"
    }
   ],
   "source": [
    "db.count()"
   ]
  },
  {
   "cell_type": "code",
   "execution_count": 49,
   "id": "6b6ba1b7-825c-4382-a95c-59c1693f58d6",
   "metadata": {
    "tags": []
   },
   "outputs": [
    {
     "data": {
      "text/plain": [
       "{'ids': ['0'],\n",
       " 'embeddings': array([[-4.03229967e-02,  1.41243562e-02,  2.56362278e-02,\n",
       "         -2.36929134e-02, -4.38607670e-02,  6.20906912e-02,\n",
       "          2.42945785e-03, -3.60977016e-02,  7.42293447e-02,\n",
       "         -2.50318903e-03, -4.79878820e-02, -4.27644029e-02,\n",
       "          4.64647487e-02, -7.22099394e-02,  1.11831827e-02,\n",
       "          1.51985465e-02,  5.16759008e-02, -8.90041515e-02,\n",
       "         -1.20806172e-02, -3.97515111e-02,  1.89136472e-02,\n",
       "         -5.40359840e-02, -1.56769846e-02,  1.72826424e-02,\n",
       "          4.86506755e-03, -3.84162627e-02,  8.17918777e-03,\n",
       "         -8.01924057e-03, -3.18096429e-02, -2.64366642e-02,\n",
       "          4.60791439e-02, -1.28534678e-02,  1.38517637e-02,\n",
       "         -4.01852056e-02,  3.26985829e-02, -5.27528934e-02,\n",
       "          5.29560223e-02,  5.80221564e-02,  4.23723861e-04,\n",
       "          3.36390059e-03,  1.32459616e-02, -6.49850145e-02,\n",
       "          1.75776631e-02, -4.25353609e-02, -5.61555400e-02,\n",
       "          8.00736621e-03, -8.61104056e-02, -4.52163927e-02,\n",
       "          2.87501384e-02, -4.39468399e-03, -3.41040269e-02,\n",
       "          5.70873544e-02,  8.96257628e-03, -5.84770441e-02,\n",
       "         -4.02276553e-02,  1.17372476e-01, -1.76875908e-02,\n",
       "          2.69793440e-02,  2.12363942e-04,  3.54524255e-02,\n",
       "         -3.99044119e-02, -5.12593910e-02, -8.49364419e-03,\n",
       "         -2.98119988e-02, -2.14742664e-02,  2.19417419e-02,\n",
       "         -8.44113808e-03, -4.89932857e-02,  6.44842461e-02,\n",
       "          2.17828099e-02, -5.72232455e-02, -2.58928388e-02,\n",
       "          5.36525100e-02, -3.21843885e-02,  2.34016478e-02,\n",
       "          1.64433159e-02,  1.58106945e-02,  1.92762464e-02,\n",
       "         -1.04073241e-01, -1.34176053e-02, -4.82116118e-02,\n",
       "         -8.54091067e-03, -4.21354100e-02,  1.53280357e-02,\n",
       "          2.86783949e-02, -5.47446087e-02,  2.18168460e-02,\n",
       "         -7.69720003e-02, -7.20023289e-02, -6.00125045e-02,\n",
       "          5.28495759e-02, -6.51751235e-02, -3.68455946e-02,\n",
       "         -9.53183696e-02, -3.11520956e-02,  6.35306388e-02,\n",
       "          6.91673830e-02,  9.21368366e-04, -7.55504593e-02,\n",
       "         -1.48868253e-02, -4.66476083e-02,  2.51977704e-02,\n",
       "         -4.50623874e-03, -3.04618385e-02, -3.57760452e-02,\n",
       "          8.42124503e-03, -5.14695644e-02, -4.96367039e-03,\n",
       "          5.83400689e-02,  3.90101187e-02,  1.05935046e-02,\n",
       "          3.65847126e-02, -2.66745705e-02,  6.77172691e-02,\n",
       "         -3.68518755e-02,  7.05697387e-03,  2.42214892e-02,\n",
       "         -4.33700532e-02, -9.65407416e-02, -2.61916611e-02,\n",
       "         -2.79353410e-02,  5.38524333e-03,  2.92065162e-02,\n",
       "          5.00946566e-02, -4.99028675e-02,  4.33700718e-02,\n",
       "         -1.17628714e-02, -1.47979865e-02,  2.15063449e-02,\n",
       "         -1.27880974e-02, -2.57999077e-02, -4.89487238e-02,\n",
       "         -4.47038002e-03,  8.83040354e-02, -9.46756545e-03,\n",
       "         -4.90813842e-03, -1.93768628e-02, -1.39903184e-02,\n",
       "          2.87253000e-02,  7.47871445e-03,  7.88930617e-03,\n",
       "          2.76469849e-02, -4.32115681e-02,  9.94066941e-04,\n",
       "         -7.44282873e-03, -3.43602560e-02, -1.43324524e-01,\n",
       "          2.69690137e-02, -3.80094200e-02, -5.38223237e-02,\n",
       "          6.35582604e-04,  2.19358411e-02, -1.47562930e-02,\n",
       "         -2.25572363e-02, -4.51699411e-03, -4.20551002e-02,\n",
       "          7.72049576e-02, -6.86950013e-02, -1.50796352e-02,\n",
       "         -1.89381018e-02, -2.95324940e-02, -2.43583210e-02,\n",
       "          4.86499518e-02, -6.17532386e-03, -2.11862307e-02,\n",
       "          8.17781836e-02,  7.53702372e-02,  1.32247992e-02,\n",
       "         -2.87608020e-02,  7.47628286e-02, -1.49988988e-02,\n",
       "         -6.21607341e-03, -2.82144621e-02, -1.34783341e-02,\n",
       "          4.80718054e-02, -1.54614681e-02,  2.55993828e-02,\n",
       "         -2.50828024e-02, -1.40941227e-02, -3.67516428e-02,\n",
       "         -6.92218915e-02,  2.73940433e-02,  7.18855811e-03,\n",
       "         -3.83129809e-03, -1.57992020e-01, -2.41108686e-02,\n",
       "         -8.10191929e-02, -2.30667815e-02, -1.59279089e-02,\n",
       "         -2.43049785e-02, -2.63717342e-02, -5.88588826e-02,\n",
       "         -2.45030224e-02,  2.46447735e-02,  3.21567319e-02,\n",
       "          2.26169564e-02, -5.82248345e-03, -5.26803918e-02,\n",
       "         -4.54029301e-03,  3.89822461e-02,  1.39091685e-02,\n",
       "         -3.13642062e-02,  9.50251147e-03,  1.32935336e-02,\n",
       "         -8.74891430e-02, -1.17546192e-03,  6.79730028e-02,\n",
       "          4.56139110e-02, -6.16160862e-04,  3.61157246e-02,\n",
       "          2.50060903e-03, -4.87286635e-02, -1.04662836e-01,\n",
       "          6.19409373e-03, -5.24283759e-02, -7.12785753e-04,\n",
       "          3.96258868e-02,  2.01600529e-02,  6.25339895e-02,\n",
       "          1.94150247e-02,  2.29553226e-02, -1.33294193e-02,\n",
       "         -8.63946751e-02,  1.29237128e-02,  4.28313315e-02,\n",
       "         -8.15830007e-03,  5.47540635e-02,  1.09998519e-02,\n",
       "         -6.10509329e-02,  4.46003815e-03, -4.00799178e-02,\n",
       "          2.57473867e-02,  9.54819657e-03,  1.13929557e-02,\n",
       "          3.88940945e-02,  3.27690132e-02,  3.23796831e-02,\n",
       "          3.33792120e-02, -7.52341822e-02, -4.66115959e-02,\n",
       "         -2.00803839e-02,  3.09991874e-02, -3.17339860e-02,\n",
       "         -6.06411695e-02,  6.55869115e-03,  4.96986881e-02,\n",
       "         -7.94556364e-02, -1.75519362e-02, -3.12257465e-02,\n",
       "         -3.12122703e-02,  4.94859554e-02,  1.74831487e-02,\n",
       "          1.16095005e-03,  6.63900152e-02,  5.59169613e-02,\n",
       "         -5.01763523e-02, -2.61378911e-04, -3.23459110e-03,\n",
       "         -3.03244404e-02,  7.49166906e-02, -1.58066545e-02,\n",
       "          1.03855329e-02, -4.32187738e-03, -6.92467391e-03,\n",
       "          2.82720439e-02, -5.16139530e-02, -1.02730535e-01,\n",
       "          2.83341017e-03,  1.66039225e-02, -1.22687304e-02,\n",
       "         -5.75580746e-02,  2.20303182e-02, -3.20177712e-02,\n",
       "         -8.81460309e-03,  7.62983551e-03, -2.38722563e-02,\n",
       "         -6.34490652e-03, -1.22609194e-02,  2.96729431e-02,\n",
       "         -9.37127974e-03, -5.13745733e-02, -4.23232503e-02,\n",
       "         -2.49275193e-03,  2.61957198e-02, -1.51651576e-02,\n",
       "         -1.28912125e-02, -4.97348122e-02,  2.13280022e-02,\n",
       "          4.42447723e-04, -2.95950230e-02, -8.43414513e-04,\n",
       "          5.88781200e-02,  6.52488321e-02, -6.28085509e-02,\n",
       "         -4.23526531e-03, -1.18728084e-02,  4.60072644e-02,\n",
       "         -2.18554027e-02, -2.44299974e-02,  1.41170118e-02,\n",
       "         -2.24925727e-02,  5.35047129e-02, -1.99651569e-02,\n",
       "          2.45542731e-02,  5.43732122e-02, -3.28918882e-02,\n",
       "         -3.98440007e-03, -5.10357767e-02, -6.30302951e-02,\n",
       "          3.07499673e-02, -2.68103890e-02, -3.34146619e-02,\n",
       "         -2.50427723e-02,  2.58819405e-02, -1.32221021e-02,\n",
       "         -1.26527976e-02, -2.13725213e-02,  4.26860433e-03,\n",
       "          9.31120384e-03, -1.79150398e-03,  6.01944290e-02,\n",
       "         -1.79070607e-02,  3.76572981e-02, -2.72205938e-02,\n",
       "         -2.34588981e-02, -5.40641844e-02, -3.28132347e-03,\n",
       "          2.71945652e-02,  1.62803698e-02, -2.76323687e-02,\n",
       "          4.48365510e-03,  3.66762467e-02,  3.60579565e-02,\n",
       "         -5.80923632e-02, -1.65559743e-02,  1.01510128e-02,\n",
       "         -7.97432009e-03, -4.57043909e-02,  3.35448189e-03,\n",
       "          7.88200926e-03,  1.52656706e-02,  4.89505893e-03,\n",
       "         -1.91146526e-02,  2.97986567e-02,  1.33960349e-02,\n",
       "         -1.15200495e-02, -8.91177263e-03, -1.51175838e-02,\n",
       "         -1.51346456e-02,  7.63617735e-03, -2.97264457e-02,\n",
       "          3.07931397e-02, -2.30051838e-02,  9.71350353e-03,\n",
       "         -6.82674721e-03, -3.70482095e-02, -2.14749817e-02,\n",
       "          2.45343503e-02, -4.27545235e-02, -1.62106904e-03,\n",
       "         -9.17722881e-02, -1.51394140e-02,  3.01103722e-02,\n",
       "          2.88592316e-02,  2.92122867e-02, -1.12349149e-02,\n",
       "          3.87623860e-03, -1.88962072e-02, -1.34489099e-02,\n",
       "          3.55409086e-02,  1.88204665e-02,  3.59461755e-02,\n",
       "          8.83777067e-03, -1.49690388e-02,  2.20921263e-02,\n",
       "         -2.96796188e-02, -2.11790111e-02, -2.02626195e-02,\n",
       "          2.29728315e-02,  1.46885691e-02,  1.53351156e-02,\n",
       "         -1.60284608e-03, -8.49464089e-02, -3.65713388e-02,\n",
       "         -4.29294333e-02,  2.71712411e-02,  2.12691445e-02,\n",
       "          2.74529383e-02,  2.23296955e-02, -5.80304675e-02,\n",
       "          4.15197434e-03,  1.14767710e-02,  2.89812568e-03,\n",
       "         -2.82670930e-03,  7.13133905e-03, -1.43485388e-03,\n",
       "         -7.31521007e-03,  1.62943825e-02, -2.47445982e-02,\n",
       "          1.55199796e-03,  5.87694254e-03,  3.58511172e-02,\n",
       "          3.71820442e-02,  4.33600368e-03, -1.29470276e-02,\n",
       "         -5.04474388e-03, -2.89662164e-02, -1.33390278e-02,\n",
       "          3.81973223e-03,  2.11411286e-02, -4.31945883e-02,\n",
       "         -1.70743465e-03,  3.12786326e-02,  4.79169898e-02,\n",
       "         -2.98870336e-02, -5.08918092e-02,  3.09196003e-02,\n",
       "         -4.27637249e-02, -1.76964495e-02, -2.95644179e-02,\n",
       "         -1.10229608e-02,  7.50185102e-02, -2.56855227e-02,\n",
       "          3.14529166e-02, -1.84035990e-02,  6.83271978e-03,\n",
       "         -3.55576314e-02,  2.30046902e-02,  4.85727154e-02,\n",
       "          1.27109783e-02, -4.12955554e-03,  5.36633655e-02,\n",
       "         -2.76296288e-02, -4.25416194e-02,  1.21751949e-02,\n",
       "         -9.56751034e-02, -9.34999995e-03,  2.41968334e-02,\n",
       "          2.48038396e-03, -3.38186714e-04,  3.41728181e-02,\n",
       "         -8.67950171e-03,  1.85933628e-03,  3.49440239e-03,\n",
       "          1.26659507e-02,  1.45658143e-02,  5.27053177e-02,\n",
       "          2.61961743e-02, -3.80876064e-02,  3.88752297e-02,\n",
       "         -1.85231883e-02,  4.56718728e-02, -3.16017889e-03,\n",
       "         -4.47503151e-03, -9.20142885e-03, -9.03546170e-04,\n",
       "          4.03008610e-02, -5.19602634e-02, -4.44554229e-04,\n",
       "         -2.05977298e-02,  3.34076285e-02,  1.29673602e-02,\n",
       "          7.70179369e-03,  3.09954844e-02,  3.56077030e-02,\n",
       "         -1.72662083e-02, -3.16980705e-02, -5.10854721e-02,\n",
       "         -5.11039561e-03, -7.95260221e-02,  4.04467918e-02,\n",
       "         -2.87269652e-02, -3.69121134e-02,  2.52530375e-03,\n",
       "          3.65296453e-02,  4.76653129e-02, -1.96701586e-02,\n",
       "         -1.16762444e-02,  6.62159035e-03,  2.52027251e-02,\n",
       "         -4.45062406e-02,  2.54920162e-02, -8.39690771e-03,\n",
       "         -4.25773598e-02,  5.27033135e-02,  7.82914534e-02,\n",
       "         -2.38792691e-03, -2.16118768e-02, -1.90016776e-02,\n",
       "          7.13548914e-04,  5.24022325e-04, -2.35883109e-02,\n",
       "         -1.79798584e-02, -1.03283361e-01, -2.13609058e-02,\n",
       "         -9.92785767e-03, -2.91104522e-03,  2.81677060e-02,\n",
       "         -5.36998771e-02,  4.38938998e-02,  6.27478585e-03,\n",
       "          7.26945326e-03, -1.88331902e-02,  4.07137088e-02,\n",
       "          4.49568173e-03, -2.44072340e-02, -4.69593704e-03,\n",
       "          9.42988414e-03, -1.69190150e-02, -2.95593571e-02,\n",
       "         -4.39569429e-02,  1.94174945e-02, -3.22015546e-02,\n",
       "         -2.22915486e-02, -2.39026211e-02,  8.40941351e-03,\n",
       "          3.34489010e-02, -8.01020041e-02,  7.35360477e-03,\n",
       "          1.93082318e-02,  4.05331962e-02, -8.17751061e-05,\n",
       "         -4.06463724e-03,  6.88683707e-03, -4.37077601e-03,\n",
       "         -4.30463552e-02,  2.27105282e-02,  6.92023139e-04,\n",
       "          2.61810627e-02,  2.73869857e-02,  2.78964406e-04,\n",
       "         -1.85469389e-02, -2.72759702e-02, -1.22391817e-03,\n",
       "         -5.83327115e-02, -1.75825506e-02, -4.35884595e-02,\n",
       "          4.61882679e-03, -3.14047188e-02,  2.45162621e-02,\n",
       "         -2.12434446e-03,  1.52210230e-02, -1.84060819e-02,\n",
       "         -5.48967756e-02, -2.47573778e-02,  1.57645121e-02,\n",
       "         -3.54069495e-03, -1.34460945e-02, -2.54332852e-02,\n",
       "          8.74871165e-02, -1.31043792e-02,  4.84887399e-02,\n",
       "          3.62378843e-02,  5.06515056e-02,  1.67207513e-02,\n",
       "          1.90636851e-02, -5.79454144e-03,  3.63078830e-03,\n",
       "          7.83930812e-03, -4.94132284e-03,  6.05971739e-03,\n",
       "          2.17539724e-02, -1.66786904e-03,  1.48901194e-02,\n",
       "          3.22379246e-02, -3.57812420e-02,  2.65956130e-02,\n",
       "          8.34924504e-02,  5.53343212e-03,  2.10155398e-02,\n",
       "         -7.41510373e-03, -7.58695323e-03,  1.55518325e-02,\n",
       "          1.40259750e-02, -1.65313575e-02, -5.38257211e-02,\n",
       "         -1.47216469e-02, -6.28691772e-03, -4.69879359e-02,\n",
       "          5.99038824e-02, -4.32689227e-02, -3.09133250e-02,\n",
       "          1.40447523e-02, -1.22573627e-02, -2.31180992e-02,\n",
       "         -1.80222886e-03, -1.32957241e-02, -3.87494341e-02,\n",
       "          2.82786731e-02, -3.90299000e-02, -2.05668882e-02,\n",
       "          2.25668531e-02, -4.10237983e-02,  4.82719913e-02,\n",
       "         -2.35427432e-02,  1.93104912e-02, -2.36855391e-02,\n",
       "          1.80360340e-02,  1.79379005e-02, -1.64181422e-02,\n",
       "         -4.06451114e-02,  1.56793669e-02,  1.22959698e-02,\n",
       "          9.06301383e-03,  1.74304452e-02, -9.26289242e-03,\n",
       "         -2.36461684e-02,  1.42413657e-02, -4.50281485e-04,\n",
       "         -6.65780604e-02, -2.43158564e-02,  3.69425789e-02,\n",
       "          2.65808236e-02, -8.69966391e-03,  2.67418697e-02,\n",
       "          1.08371060e-02, -1.96454357e-02,  6.64114999e-03,\n",
       "          1.95028726e-03,  6.19157590e-02, -4.13548909e-02,\n",
       "         -5.13734967e-02,  5.88890351e-03, -1.07873930e-02,\n",
       "          1.05265193e-02,  3.98705527e-02,  4.43810225e-03,\n",
       "          2.38557681e-02, -2.51315124e-02,  4.29862477e-02,\n",
       "         -1.16713447e-02,  2.98841428e-02, -9.86449495e-02,\n",
       "         -4.87250797e-02, -1.86399166e-02, -2.18088329e-02,\n",
       "         -7.47226924e-03,  5.31937256e-02, -2.79473830e-02,\n",
       "         -8.62265565e-03, -7.50807952e-03, -3.24292481e-02,\n",
       "         -7.83863477e-03,  1.02337496e-02, -3.50352302e-02,\n",
       "         -1.22651039e-02, -7.94780161e-03,  5.87271107e-03,\n",
       "         -4.42828779e-04, -2.91277952e-02,  3.82003933e-02,\n",
       "         -4.98786047e-02,  9.85672139e-03,  1.82029679e-02,\n",
       "          5.34565598e-02, -2.63827574e-02, -1.30444556e-03,\n",
       "         -1.58737078e-02,  2.96910089e-02,  5.65547235e-02,\n",
       "         -1.04223471e-02,  1.97347626e-03, -1.48283867e-02,\n",
       "          2.10826769e-02,  1.13936365e-02, -4.14111577e-02,\n",
       "         -5.17513677e-02,  4.59975153e-02, -8.79536122e-02,\n",
       "         -8.87431726e-02,  1.63911784e-03, -2.99890377e-02,\n",
       "          2.47006491e-02, -9.68615618e-03,  3.81709496e-03,\n",
       "          2.86021922e-02, -8.55981838e-03, -1.35528930e-02,\n",
       "         -4.90260124e-03,  8.10304377e-03,  1.69316139e-02,\n",
       "         -2.46204678e-02,  5.29173501e-02,  5.33569651e-03,\n",
       "          1.98136456e-02, -4.76882309e-02,  8.29617959e-03,\n",
       "          3.70499007e-02,  4.55591306e-02,  2.64998768e-02,\n",
       "         -5.03437780e-03,  1.92540642e-02,  5.49984956e-03,\n",
       "         -4.10434119e-02,  8.39381590e-02, -5.16410451e-03,\n",
       "          3.67137976e-02, -2.14043539e-02, -3.52812558e-02,\n",
       "         -5.14579332e-03,  3.96022946e-02,  6.67636702e-03,\n",
       "          1.43603068e-02,  2.28135791e-02, -3.16094495e-02,\n",
       "         -5.99811412e-03,  9.44198668e-03,  8.60882774e-02,\n",
       "          5.37884329e-03,  1.28477970e-02, -1.04377232e-02,\n",
       "         -3.66247930e-02, -5.29505238e-02, -2.43574474e-02,\n",
       "         -6.37562796e-02, -3.55641767e-02,  7.87843484e-03,\n",
       "         -7.54413679e-02,  6.34071454e-02, -8.84351227e-03,\n",
       "          4.26846882e-03, -7.20056822e-04, -1.06230527e-02,\n",
       "          2.70991512e-02,  3.67662460e-02, -6.56725490e-04,\n",
       "         -8.40518065e-03, -8.03545024e-03, -1.34808822e-02,\n",
       "          4.50012609e-02,  4.20605838e-02, -6.84371069e-02,\n",
       "         -4.74557281e-03, -2.79708318e-02,  3.33052352e-02,\n",
       "          4.60123038e-03, -5.76624051e-02, -4.62683477e-02,\n",
       "         -1.42839281e-02, -3.08248829e-02,  2.41692681e-02,\n",
       "          3.79427709e-02, -4.16359045e-02,  2.79699638e-02,\n",
       "         -2.14843801e-03, -3.69390962e-03,  2.65552141e-02,\n",
       "          6.21011071e-02, -1.10429702e-02, -5.52251860e-02,\n",
       "          3.64664639e-03,  1.55281089e-02, -9.19287931e-03,\n",
       "          4.57581952e-02,  2.62951925e-02, -3.04651838e-02,\n",
       "         -4.02963944e-02,  2.46817246e-02,  1.48731517e-02,\n",
       "          2.11429205e-02,  4.31304276e-02,  1.41567700e-02,\n",
       "         -3.50930132e-02,  1.09769069e-02,  5.55420443e-02,\n",
       "          5.83409984e-03, -1.52970320e-02, -3.93905863e-03]]),\n",
       " 'documents': ['Operating the Climate Control System  Your Googlecar has a climate control system that allows you to adjust the temperature and airflow in the car. To operate the climate control system, use the buttons and knobs located on the center console.  Temperature: The temperature knob controls the temperature inside the car. Turn the knob clockwise to increase the temperature or counterclockwise to decrease the temperature. Airflow: The airflow knob controls the amount of airflow inside the car. Turn the knob clockwise to increase the airflow or counterclockwise to decrease the airflow. Fan speed: The fan speed knob controls the speed of the fan. Turn the knob clockwise to increase the fan speed or counterclockwise to decrease the fan speed. Mode: The mode button allows you to select the desired mode. The available modes are: Auto: The car will automatically adjust the temperature and airflow to maintain a comfortable level. Cool: The car will blow cool air into the car. Heat: The car will blow warm air into the car. Defrost: The car will blow warm air onto the windshield to defrost it.'],\n",
       " 'uris': None,\n",
       " 'included': ['metadatas', 'documents', 'embeddings'],\n",
       " 'data': None,\n",
       " 'metadatas': [None]}"
      ]
     },
     "execution_count": 49,
     "metadata": {},
     "output_type": "execute_result"
    }
   ],
   "source": [
    "# You can peek at the data too.\n",
    "db.peek(1)"
   ]
  },
  {
   "cell_type": "markdown",
   "id": "53bbc3eb-2953-4b01-bc2b-7d672d50fec8",
   "metadata": {},
   "source": [
    "# Retrieval: Find relevant documents\n",
    "\n",
    "To search the Chroma database, call the query method. Note that you also switch to the retrieval_query mode of embedding generation.\n",
    "\n",
    "--- \n",
    "\n",
    "Chromaデータベースを検索するには、クエリメソッドを呼び出します。また、埋め込み生成のretrieval_queryモードに切り替えることに注意してください。"
   ]
  },
  {
   "cell_type": "code",
   "execution_count": 53,
   "id": "4168c509-78d2-4d83-9f8e-1b90e1310bf0",
   "metadata": {
    "tags": []
   },
   "outputs": [
    {
     "data": {
      "text/markdown": [
       "Your Googlecar has a large touchscreen display that provides access to a variety of features, including navigation, entertainment, and climate control. To use the touchscreen display, simply touch the desired icon.  For example, you can touch the \"Navigation\" icon to get directions to your destination or touch the \"Music\" icon to play your favorite songs."
      ],
      "text/plain": [
       "<IPython.core.display.Markdown object>"
      ]
     },
     "execution_count": 53,
     "metadata": {},
     "output_type": "execute_result"
    }
   ],
   "source": [
    "# Switch to query mode when generating embeddings.\n",
    "embed_fn.document_mode = False\n",
    "\n",
    "# Search the Chroma DB using the specified query.\n",
    "query =  \"How do you use the touchscreen to play music?\"\n",
    "\n",
    "result = db.query(query_texts = [query], n_results = 1)\n",
    "[all_passages] = result[\"documents\"]\n",
    "\n",
    "Markdown(all_passages[0])"
   ]
  },
  {
   "cell_type": "markdown",
   "id": "f1eb07c9-81c6-427f-8adf-7d3781513eaf",
   "metadata": {
    "tags": []
   },
   "source": [
    "# Augmented generation: Answer the question\n",
    "\n",
    "Now that you have found a relevant passage from the set of documents (the retrieval step), you can now assemble a generation prompt to have the Gemini API generate a final answer. Note that in this example only a single passage was retrieved. In practice, especially when the size of your underlying data is large, you will want to retrieve more than one result and let the Gemini model determine what passages are relevant in answering the question. For this reason it's OK if some retrieved passages are not directly related to the question - this generation step should ignore them.\n",
    "\n",
    "---\n",
    "\n",
    "ドキュメントのセット（検索ステップ）から関連するパッセージを見つけたので、生成プロンプトを組み立てて、Gemini APIに最終回答を生成させることができます。この例では、単一のパッセージのみが取得されたことに注意してください。実際には、特に基礎となるデータのサイズが大きい場合は、複数の結果を取得し、Geminiモデルに質問に答える際にどのパッセージが関連しているかを判断させる必要があります。このため、取得したパッセージの一部が質問に直接関係していなくても大丈夫です。この生成ステップはそれらを無視する必要があります。"
   ]
  },
  {
   "cell_type": "code",
   "execution_count": 59,
   "id": "4329ca28-6e1c-4c57-a424-ac70e1950d9d",
   "metadata": {
    "tags": []
   },
   "outputs": [
    {
     "name": "stdout",
     "output_type": "stream",
     "text": [
      "\"You are a helpful and informative bot  that answers questions using text from the reference passage included below.\n",
      "Be sure to respond in a complete sentence, being comprehensive, including all relevant background information.\n",
      "However, you are talking to a non-technical audience, so be sure to break down complicated concepts and\n",
      "strike a friendly and converstional tone. If the passage is irrelevant to the answer, you may ignore it.\n",
      "\n",
      "QUESTION: How do you use the touchscreen to play music?\n",
      "PASSAGE: Your Googlecar has a large touchscreen display that provides access to a variety of features, including navigation, entertainment, and climate control. To use the touchscreen display, simply touch the desired icon.  For example, you can touch the \"Navigation\" icon to get directions to your destination or touch the \"Music\" icon to play your favorite songs.\n",
      "\n"
     ]
    }
   ],
   "source": [
    "query_oneline = query.replace(\"\\n\", \" \")\n",
    "\n",
    "# This prompt is where you can specify any guidance on tone, or what topics the model should stick to, or avoid.\n",
    "prompt = f\"\"\"\"You are a helpful and informative bot  that answers questions using text from the reference passage included below.\n",
    "Be sure to respond in a complete sentence, being comprehensive, including all relevant background information.\n",
    "However, you are talking to a non-technical audience, so be sure to break down complicated concepts and\n",
    "strike a friendly and converstional tone. If the passage is irrelevant to the answer, you may ignore it.\n",
    "\n",
    "QUESTION: {query_oneline}\n",
    "\"\"\"\n",
    "\n",
    "# Add the retrieved documents to the prompt.\n",
    "for passage in all_passages:\n",
    "    passage_oneline = passage.replace(\"\\n\", \" \")\n",
    "    prompt += f\"PASSAGE: {passage_oneline}\\n\"\n",
    "    \n",
    "print(prompt)"
   ]
  },
  {
   "cell_type": "markdown",
   "id": "7100b9c9-bc19-4e6f-b2e7-62a7e9836adb",
   "metadata": {},
   "source": [
    "---\n",
    "Now use the generate_content method to to generate an answer to the question."
   ]
  },
  {
   "cell_type": "code",
   "execution_count": 60,
   "id": "9eecdd62-c927-4822-8800-0464e5257efc",
   "metadata": {
    "tags": []
   },
   "outputs": [
    {
     "data": {
      "text/markdown": [
       "If you want to listen to music, the first thing you need to do is find the \"Music\" icon on the touchscreen display in your Googlecar and simply touch it.\n"
      ],
      "text/plain": [
       "<IPython.core.display.Markdown object>"
      ]
     },
     "execution_count": 60,
     "metadata": {},
     "output_type": "execute_result"
    }
   ],
   "source": [
    "answer = client.models.generate_content(\n",
    "    model = \"gemini-2.0-flash-001\",\n",
    "    contents = prompt\n",
    ")\n",
    "\n",
    "Markdown(answer.text)"
   ]
  },
  {
   "cell_type": "markdown",
   "id": "513e145d-1931-4221-b6a1-9f2ceffb793e",
   "metadata": {},
   "source": [
    "# NextStep\n",
    "\n",
    "Congrats on building a Retrieval-Augmented Generation app!\n",
    "\n",
    "To learn more about using embeddings in the Gemini API, check out the [Intro to embeddings](https://ai.google.dev/gemini-api/docs/embeddings) or to learn more fundamentals, study the [embeddings chapter](https://developers.google.com/machine-learning/crash-course/embeddings) of the Machine Learning Crash Course.\n",
    "\n",
    "For a hosted RAG system, check out the [Semantic Retrieval service](https://ai.google.dev/gemini-api/docs/semantic_retrieval) in the Gemini API. You can implement question-answering on your own documents in a single request, or host a database for even faster responses.\n",
    "\n",
    "---\n",
    "\n",
    "Retrieval-Augmented Generationアプリの構築おめでとうございます！\n",
    "\n",
    "ジェミニAPIでの埋め込みの使用について詳しくは、埋め込み入門を確認するか、基礎については、機械学習クラッシュコースの埋め込みの章を参照してください。\n",
    "\n",
    "ホストされている RAG システムについては、Gemini API のセマンティック 検索サービスを確認してください。独自のドキュメントに質問への回答を単一のリクエストで実装したり、データベースをホストしてさらに高速な応答を実行したりできます。"
   ]
  }
 ],
 "metadata": {
  "environment": {
   "kernel": "conda-base-py",
   "name": "workbench-notebooks.m129",
   "type": "gcloud",
   "uri": "us-docker.pkg.dev/deeplearning-platform-release/gcr.io/workbench-notebooks:m129"
  },
  "kernelspec": {
   "display_name": "Python 3 (ipykernel)",
   "language": "python",
   "name": "conda-base-py"
  },
  "language_info": {
   "codemirror_mode": {
    "name": "ipython",
    "version": 3
   },
   "file_extension": ".py",
   "mimetype": "text/x-python",
   "name": "python",
   "nbconvert_exporter": "python",
   "pygments_lexer": "ipython3",
   "version": "3.10.16"
  }
 },
 "nbformat": 4,
 "nbformat_minor": 5
}
